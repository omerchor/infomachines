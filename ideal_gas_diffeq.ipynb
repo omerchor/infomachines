{
 "cells": [
  {
   "cell_type": "code",
   "execution_count": 13,
   "metadata": {},
   "outputs": [
    {
     "data": {
      "text/plain": "interactive(children=(FloatSlider(value=2.0, description='m', max=5.0, min=0.1), FloatSlider(value=1.0, descri…",
      "application/vnd.jupyter.widget-view+json": {
       "version_major": 2,
       "version_minor": 0,
       "model_id": "c34201f9b7504d5fbab80b55bc9f4e54"
      }
     },
     "metadata": {},
     "output_type": "display_data"
    },
    {
     "data": {
      "text/plain": "interactive(children=(FloatSlider(value=2.0, description='m', max=5.0, min=0.1), FloatSlider(value=1.0, descri…",
      "application/vnd.jupyter.widget-view+json": {
       "version_major": 2,
       "version_minor": 0,
       "model_id": "099940e817684627bddb6294be468f7b"
      }
     },
     "metadata": {},
     "output_type": "display_data"
    }
   ],
   "source": [
    "import matplotlib\n",
    "import scipy.integrate\n",
    "import matplotlib.pyplot as plt\n",
    "import numpy as np\n",
    "import ipywidgets as widgets\n",
    "\n",
    "# matplotlib.use('TKAgg')\n",
    "%matplotlib inline\n",
    "\n",
    "\n",
    "def ideal_gas_expansion(t, z, b, c):\n",
    "    \"\"\"\n",
    "    Differential equation for expansion of ideal gas with Newton's second law\n",
    "\n",
    "    Parameters\n",
    "    ----------\n",
    "    t: time\n",
    "    z: tuple of [dx/dt, x]\n",
    "    b: value of (N k_B T)/m (right hand side of equation of state divided by barrier mass)\n",
    "    c: friction coefficient gamma, divided by mass (gamma/m)\n",
    "\n",
    "    Returns\n",
    "    -------\n",
    "    Tuple with value of dz/dt, i.e. (x'', x')\n",
    "    \"\"\"\n",
    "    return b/z[1] - c*z[0], z[0]\n",
    "\n",
    "\n",
    "def odr_solution(nkt, m, gamma, x0):\n",
    "    time_range = [0, 5]\n",
    "    args = (nkt/m, gamma/m)\n",
    "    t = np.linspace(*time_range, 300)\n",
    "    return t, scipy.integrate.solve_ivp(ideal_gas_expansion, time_range,\n",
    "                                     [0, x0], args=args, dense_output=True)"
   ]
  },
  {
   "cell_type": "code",
   "execution_count": 14,
   "outputs": [
    {
     "data": {
      "text/plain": "interactive(children=(FloatSlider(value=2.0, description='m', max=5.0, min=0.1), FloatSlider(value=1.0, descri…",
      "application/vnd.jupyter.widget-view+json": {
       "version_major": 2,
       "version_minor": 0,
       "model_id": "021dbe5590d444b19ab955da66f57851"
      }
     },
     "metadata": {},
     "output_type": "display_data"
    }
   ],
   "source": [
    "@widgets.interact(m=widgets.FloatSlider(2, min=0.1, max=5),\n",
    "                  nkt=widgets.FloatSlider(1, min=0, max=5),\n",
    "                  gamma=widgets.FloatSlider(1, min=0, max=5),\n",
    "                  x0=widgets.FloatSlider(0.5, min=0.01, max=5))\n",
    "def time_plot(m=2, nkt=1, gamma=1, x0=0.05):\n",
    "    t, sol = odr_solution(nkt, m, gamma, x0)\n",
    "    z = sol.sol(t)\n",
    "    plt.plot(t, z.T)\n",
    "    plt.plot(t, nkt/z.T[:,1], label=\"Pressure\")\n",
    "    plt.xlabel(\"t [sec]\")\n",
    "    plt.legend(['dx/dt', 'x', \"Pressure\"])\n",
    "    plt.title(\"Expansion of ideal gas against friction\")\n",
    "    return plt.figure()"
   ],
   "metadata": {
    "collapsed": false,
    "pycharm": {
     "name": "#%%\n"
    }
   }
  },
  {
   "cell_type": "code",
   "execution_count": 21,
   "outputs": [
    {
     "data": {
      "text/plain": "interactive(children=(FloatSlider(value=2.0, description='m', max=5.0, min=0.1), FloatSlider(value=1.0, descri…",
      "application/vnd.jupyter.widget-view+json": {
       "version_major": 2,
       "version_minor": 0,
       "model_id": "f197852e59d14646a4e225816ede7f5d"
      }
     },
     "metadata": {},
     "output_type": "display_data"
    }
   ],
   "source": [
    "@widgets.interact(m=widgets.FloatSlider(2, min=0.1, max=5),\n",
    "                  nkt=widgets.FloatSlider(1, min=0, max=5),\n",
    "                  gamma=widgets.FloatSlider(1, min=0, max=5),\n",
    "                  x0=widgets.FloatSlider(0.5, min=0.01, max=5))\n",
    "def position_plot(m=2, nkt=1, gamma=1, x0=0.05):\n",
    "    t, sol = odr_solution(nkt, m, gamma, x0)\n",
    "    z = sol.sol(t)\n",
    "    plt.plot(z.T[:,0], z.T[:,1], label=\"Velocity\")\n",
    "    plt.plot(z.T[:,0], nkt/z.T[:,1], label=\"Pressure\")\n",
    "    plt.xlabel(\"position\")\n",
    "    plt.legend()\n",
    "    plt.title(\"Expansion of ideal gas against friction\")\n",
    "    return plt.figure()"
   ],
   "metadata": {
    "collapsed": false,
    "pycharm": {
     "name": "#%%\n"
    }
   }
  }
 ],
 "metadata": {
  "kernelspec": {
   "display_name": "Python 3",
   "language": "python",
   "name": "python3"
  },
  "language_info": {
   "codemirror_mode": {
    "name": "ipython",
    "version": 3
   },
   "file_extension": ".py",
   "mimetype": "text/x-python",
   "name": "python",
   "nbconvert_exporter": "python",
   "pygments_lexer": "ipython3",
   "version": "3.8.5"
  }
 },
 "nbformat": 4,
 "nbformat_minor": 1
}